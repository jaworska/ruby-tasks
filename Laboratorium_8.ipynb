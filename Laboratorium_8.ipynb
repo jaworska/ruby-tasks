{
 "metadata": {
  "language": "ruby",
  "name": "",
  "signature": "sha256:4f8a3f44084e497fe6edb263083d282ba0cd99ebe696eab7abfb456cc0bfcbe3"
 },
 "nbformat": 3,
 "nbformat_minor": 0,
 "worksheets": [
  {
   "cells": [
    {
     "cell_type": "heading",
     "level": 1,
     "metadata": {},
     "source": [
      "Zapytania z\u0142o\u017cone"
     ]
    },
    {
     "cell_type": "markdown",
     "metadata": {},
     "source": [
      "Przed rozpocz\u0119ciem pracy konieczne jest skonfigurowanie bazy oraz za\u0142adowanie danych:\n",
      "```ruby\n",
      "$:.unshift \".\"\n",
      "require 'db_setup'\n",
      "require 'db_load'\n",
      "```"
     ]
    },
    {
     "cell_type": "code",
     "collapsed": false,
     "input": [
      "$:.unshift \".\"\n",
      "require 'db_setup'\n",
      "require 'db_load'"
     ],
     "language": "python",
     "metadata": {},
     "outputs": [
      {
       "output_type": "stream",
       "stream": "stdout",
       "text": [
        "==  AddIndicesMigration: migrating ============================================\n"
       ]
      },
      {
       "output_type": "stream",
       "stream": "stdout",
       "text": [
        "==  AddIndicesMigration: migrated (0.0000s) ===================================\n"
       ]
      },
      {
       "output_type": "stream",
       "stream": "stdout",
       "text": [
        "\n"
       ]
      },
      {
       "metadata": {},
       "output_type": "pyout",
       "prompt_number": 6,
       "text": [
        "true"
       ]
      }
     ],
     "prompt_number": 6
    },
    {
     "cell_type": "markdown",
     "metadata": {},
     "source": [
      "W dalszych zadaniach b\u0119dzie wykonywa\u0107 polecenia korzystaj\u0105c z nast\u0119puj\u0105cych klas, zmapowanych na odpowiadaj\u0105ce im \n",
      "table w bazie danych:\n",
      "```ruby\n",
      "class Author < ActiveRecord::Base\n",
      "  # name      (string)\n",
      "  # surname   (string)\n",
      "  # born      (datetime) \n",
      "  # died      (datetime)\n",
      "  # image_url (string)\n",
      "  \n",
      "  has_many :books\n",
      "end\n",
      "\n",
      "class Book < ActiveRecord::Base\n",
      "  # title     (string)\n",
      "  # author    (Author)\n",
      "  # published (integer)\n",
      "\n",
      "  belongs_to :author\n",
      "end\n",
      "```"
     ]
    },
    {
     "cell_type": "markdown",
     "metadata": {},
     "source": [
      "ActiveRecord udost\u0119pnia interfejs pozwalaj\u0105cy wyszukiwa\u0107 dane w bazie r\u00f3wnie\u017c z wykorzystaniem zwi\u0105zk\u00f3w zdefiniowanych pomi\u0119dzy\n",
      "klasami. Do definiowania tych zwi\u0105zk\u00f3w s\u0142u\u017c\u0105 polecenia `has_many`, `belongs_to`, `has_one` oraz `has_and_belongs_to_many`.\n",
      "Przyk\u0142adowo je\u015bli chcemy dowiedzie\u0107 si\u0119 kto by\u0142 autorem pierwszej ksi\u0105\u017cki wykonujemy zapytanie:\n",
      "```ruby\n",
      "book = Book.first\n",
      "puts book.title\n",
      "puts book.author\n",
      "```"
     ]
    },
    {
     "cell_type": "code",
     "collapsed": false,
     "input": [
      "book = Book.first\n",
      "puts book.title\n",
      "puts book.author"
     ],
     "language": "python",
     "metadata": {},
     "outputs": [
      {
       "output_type": "stream",
       "stream": "stdout",
       "text": [
        "V\u00e9gj\u00e1t\u00e9k (reg\u00e9ny)\n"
       ]
      },
      {
       "output_type": "stream",
       "stream": "stdout",
       "text": [
        "#<Author:0x00000002a69440>\n"
       ]
      }
     ],
     "prompt_number": 2
    },
    {
     "cell_type": "markdown",
     "metadata": {},
     "source": [
      "Niestety prezentowany wynik nie jest zbyt u\u017cyteczny. Poniewa\u017c jednak metoda `author` zwraca obiekt, mo\u017cemy na nim wywo\u0142ywa\u0107 \n",
      "metody - tak samo jak w przypadku autora za\u0142adowanego bezpo\u015brednio z wykorzystaniem metod zdefiniowanych dla klasy `Author`\n",
      "```ruby\n",
      "book = Book.first\n",
      "puts book.title\n",
      "puts \"#{book.author.name} #{book.author.surname}\"\n",
      "```"
     ]
    },
    {
     "cell_type": "code",
     "collapsed": false,
     "input": [
      "book = Book.first\n",
      "puts book.title\n",
      "puts \"#{book.author.name} #{book.author.surname}\""
     ],
     "language": "python",
     "metadata": {},
     "outputs": [
      {
       "output_type": "stream",
       "stream": "stdout",
       "text": [
        "V\u00e9gj\u00e1t\u00e9k (reg\u00e9ny)\n"
       ]
      },
      {
       "output_type": "stream",
       "stream": "stdout",
       "text": [
        "Orson Scott Card\n"
       ]
      }
     ],
     "prompt_number": 3
    },
    {
     "cell_type": "markdown",
     "metadata": {},
     "source": [
      "Co wi\u0119cej, je\u015bli mamy do czynienia ze zwi\u0105zkiem jeden-do-wiele b\u0105d\u017a wiele-do-wiele, mo\u017cemy wywy\u0142ywa\u0107 wszystkie dotychczas poznane \n",
      "metody na kolekcji powi\u0105zanych obiekt\u00f3w. Istotnie u\u0142atwia to wyszukiwanie potrzebnych danych:\n",
      "```ruby\n",
      "books = Book.where(\"title like 'A%'\")\n",
      "books.each do |book|\n",
      "  puts book.title\n",
      "end\n",
      "\n",
      "author = Author.where(surname: \"To\u0142stoj\").first\n",
      "books = author.books.where(\"title like 'A%'\")\n",
      "books.each do |book|\n",
      "  puts book.title\n",
      "end\n",
      "```"
     ]
    },
    {
     "cell_type": "code",
     "collapsed": false,
     "input": [
      "books = Book.where(\"title like 'A%'\")\n",
      "books.each do |book|\n",
      "  puts book.title\n",
      "end\n",
      "\n",
      "author = Author.where(surname: \"To\u0142stoj\").first\n",
      "books = author.books.where(\"title like 'A%'\")\n",
      "books.each do |book|\n",
      "  puts book.title\n",
      "end"
     ],
     "language": "python",
     "metadata": {},
     "outputs": [
      {
       "output_type": "stream",
       "stream": "stdout",
       "text": [
        "Anna Karenina\n"
       ]
      },
      {
       "output_type": "stream",
       "stream": "stdout",
       "text": [
        "Azazel (powie\u015b\u0107)\n"
       ]
      },
      {
       "output_type": "stream",
       "stream": "stdout",
       "text": [
        "Anna Karenina\n"
       ]
      },
      {
       "metadata": {},
       "output_type": "pyout",
       "prompt_number": 4,
       "text": [
        "[#<Book id: 33, title: \"Anna Karenina\", language: nil, author_id: 30, published: 1877, image_url: \"http://commons.wikimedia.org/wiki/Special:FilePath...\">]"
       ]
      }
     ],
     "prompt_number": 4
    },
    {
     "cell_type": "markdown",
     "metadata": {},
     "source": [
      "R\u00f3\u017cnica pomi\u0119dzy tymi zapytaniami polega na tym, \u017ce w pierwszym przypadku szukamy ksi\u0105\u017cki, kt\u00f3rych tytu\u0142 zaczyna si\u0119 na \"A\" \n",
      "w ca\u0142ym zbiorze ksi\u0105\u017cek, a w drugi przypadku w\u015br\u00f3d ksi\u0105\u017cek napisanych przez To\u0142stoja."
     ]
    },
    {
     "cell_type": "markdown",
     "metadata": {},
     "source": [
      "Aby umo\u017cliwi\u0107 formatowanie wynik\u00f3w zapytania, IRuby udost\u0119pnia metod\u0119 `IRuby.html`, kt\u00f3ra pozwala na wy\u015bwietlanie kodu\n",
      "HTML. Przyk\u0142adowo\n",
      "```ruby\n",
      "IRuby.html \"<h1>Test HTML-a</h1>\"\n",
      "```"
     ]
    },
    {
     "cell_type": "code",
     "collapsed": false,
     "input": [
      "IRuby.html \"<h1>Test HTML-a</h1>\""
     ],
     "language": "python",
     "metadata": {},
     "outputs": [
      {
       "html": [
        "<h1>Test HTML-a</h1>"
       ],
       "metadata": {},
       "output_type": "pyout",
       "prompt_number": 6,
       "text": [
        "\"<h1>Test HTML-a</h1>\""
       ]
      }
     ],
     "prompt_number": 6
    },
    {
     "cell_type": "markdown",
     "metadata": {},
     "source": [
      "Dzi\u0119ki temu b\u0119dziemy mogli formatowa\u0107 wyniki zapyta\u0144, a wszczeg\u00f3lno\u015bci wy\u015bwietla\u0107 obrazy przedstwiaj\u0105ce autor\u00f3w oraz ksi\u0105\u017cki. \n",
      "Nale\u017cy jednak wzi\u0105\u0107 pod uwag\u0119, \u017ce nie wszystkie ksi\u0105\u017cki oraz nie wszyscy autorzy posiadaj\u0105 odpowiadaj\u0105ce im obrazki.\n",
      "Aby wy\u015bwietli\u0107 imi\u0119, nazwisko oraz obraz pierwszego autora piszemy:\n",
      "```ruby\n",
      "author = Author.where(\"image_url is not null\").first\n",
      "IRuby.html \"<h1>#{author.name} #{author.surname}</h1><img src='#{author.image_url}'/>\"\n",
      "```"
     ]
    },
    {
     "cell_type": "code",
     "collapsed": false,
     "input": [
      "author = Author.where(\"image_url is not null\").first\n",
      "IRuby.html \"<h1>#{author.name} #{author.surname}</h1><img src='#{author.image_url}'/>\""
     ],
     "language": "python",
     "metadata": {},
     "outputs": [
      {
       "html": [
        "<h1>Orson Scott Card</h1><img src='http://commons.wikimedia.org/wiki/Special:FilePath/Orson_Scott_Card_at_BYU_Symposium_20080216_closeup.jpg?width=300'/>"
       ],
       "metadata": {},
       "output_type": "pyout",
       "prompt_number": 7,
       "text": [
        "\"<h1>Orson Scott Card</h1><img src='http://commons.wikimedia.org/wiki/Special:FilePath/Orson_Scott_Card_at_BYU_Symposium_20080216_closeup.jpg?width=300'/>\""
       ]
      }
     ],
     "prompt_number": 7
    },
    {
     "cell_type": "markdown",
     "metadata": {},
     "source": [
      "Mo\u017cemy r\u00f3wnie\u017c zdefniowa\u0107 funkcj\u0119, np. `display_author`, kt\u00f3rej zadaniem b\u0119dzie wy\u015bwietlenie autora w tej postaci. \n",
      "Jedyny problem polega na tym, \u017ce funkcja `IRuby.html` mo\u017ce by\u0107 wywo\u0142ywana tylko raz. Dlatego je\u015bli chcemy wy\u015bwietli\u0107 kilku autor\u00f3w,\n",
      "musimy po\u0142\u0105czy\u0107 odpowiadaj\u0105ce im kody HTML i wynik przekaza\u0107 do funkcji `html`\n",
      "```ruby\n",
      "def display_author(author)\n",
      "  \"<h1>#{author.name} #{author.surname}</h1><img src='#{author.image_url}'/>\"\n",
      "end\n",
      "\n",
      "author_1 = Author.where(\"image_url is not null\").first\n",
      "author_2 = Author.where(\"image_url is not null\").offset(1).first\n",
      "document = display_author(author_1)\n",
      "document += display_author(author_2)\n",
      "IRuby.html document\n",
      "```"
     ]
    },
    {
     "cell_type": "code",
     "collapsed": false,
     "input": [
      "def display_author(author)\n",
      "  \"<h1>#{author.name} #{author.surname}</h1><img src='#{author.image_url}'/>\"\n",
      "end\n",
      "\n",
      "author_1 = Author.where(\"image_url is not null\").first\n",
      "author_2 = Author.where(\"image_url is not null\").offset(1).first\n",
      "document = display_author(author_1)\n",
      "document += display_author(author_2)\n",
      "IRuby.html document"
     ],
     "language": "python",
     "metadata": {},
     "outputs": [
      {
       "html": [
        "<h1>Orson Scott Card</h1><img src='http://commons.wikimedia.org/wiki/Special:FilePath/Orson_Scott_Card_at_BYU_Symposium_20080216_closeup.jpg?width=300'/><h1>Andrzej Sapkowski</h1><img src='http://commons.wikimedia.org/wiki/Special:FilePath/Sapkowski.jpg?width=300'/>"
       ],
       "metadata": {},
       "output_type": "pyout",
       "prompt_number": 8,
       "text": [
        "\"<h1>Orson Scott Card</h1><img src='http://commons.wikimedia.org/wiki/Special:FilePath/Orson_Scott_Card_at_BYU_Symposium_20080216_closeup.jpg?width=300'/><h1>Andrzej Sapkowski</h1><img src='http://commons.wikimedia.org/wiki/Special:FilePath/Sapkowski.jpg?width=300'/>\""
       ]
      }
     ],
     "prompt_number": 8
    },
    {
     "cell_type": "heading",
     "level": 2,
     "metadata": {},
     "source": [
      "Zadania"
     ]
    },
    {
     "cell_type": "heading",
     "level": 3,
     "metadata": {},
     "source": [
      "Zadanie 1"
     ]
    },
    {
     "cell_type": "markdown",
     "metadata": {},
     "source": [
      "Wy\u015bwietl wszystkich autor\u00f3w, kt\u00f3rzy urodzili si\u0119 przed rokiem 1900."
     ]
    },
    {
     "cell_type": "code",
     "collapsed": false,
     "input": [
      "def display_author(author)\n",
      "  \"<h1>#{author.name} #{author.surname}</h1><h2>ur. #{author.born}</h2><img src='#{author.image_url}'/>\"\n",
      "end\n",
      "\n",
      "def display_authors(authors)\n",
      "  doc = \"\"\n",
      "  authors.each do |author|\n",
      "    doc += display_author(author)\n",
      "  end\n",
      "  return doc\n",
      "end\n",
      "\n",
      "authors = Author.where(\"born < '1900-01-01'\")\n",
      "\n",
      "IRuby.html display_authors(authors)"
     ],
     "language": "python",
     "metadata": {},
     "outputs": [
      {
       "html": [
        "<h1>Juliusz S\u0142owacki</h1><h2>ur. 1809-09-04</h2><img src=''/><h1>Henryk Sienkiewicz</h1><h2>ur. 1841-06-06</h2><img src=''/><h1>Eliza Orzeszkowa</h1><h2>ur. 1846-05-05</h2><img src=''/><h1>Adam Mickiewicz</h1><h2>ur. 1798-12-24</h2><img src=''/><h1>Jack London</h1><h2>ur. 1876-01-12</h2><img src='http://commons.wikimedia.org/wiki/Special:FilePath/JackLondon02.jpeg?width=300'/><h1>Miko\u0142aj Kopernik</h1><h2>ur. 1473-02-19</h2><img src='http://commons.wikimedia.org/wiki/Special:FilePath/Nikolaus_Kopernikus.jpg?width=300'/><h1>Maria Franciszka Koz\u0142owska</h1><h2>ur. 1862-05-27</h2><img src='http://commons.wikimedia.org/wiki/Special:FilePath/Mateczk_Koz\u0142owska.JPG?width=300'/><h1>William Szekspir</h1><h2>ur. 1564-04-23</h2><img src='http://commons.wikimedia.org/wiki/Special:FilePath/Shakespeare.jpg?width=300'/><h1>John Ronald Reuel Tolkien</h1><h2>ur. 1892-01-03</h2><img src='http://commons.wikimedia.org/wiki/Special:FilePath/Tolkien_1916.jpg?width=300'/><h1>Aleksander Dumas (ojciec)</h1><h2>ur. 1802-07-24</h2><img src='http://commons.wikimedia.org/wiki/Special:FilePath/Dumas_by_Nadar,_1855.jpg?width=300'/><h1>Tadeusz Do\u0142\u0119ga-Mostowicz</h1><h2>ur. 1898-08-10</h2><img src='http://commons.wikimedia.org/wiki/Special:FilePath/Tadeusz_Dolega-Mostowicz.jpg?width=300'/><h1>Vladimir Nabokov</h1><h2>ur. 1899-04-22</h2><img src='http://commons.wikimedia.org/wiki/Special:FilePath/Monument_Nabokov_Montreux_23.12.2006.jpg?width=300'/><h1>Adolf Hitler</h1><h2>ur. 1889-04-20</h2><img src='http://commons.wikimedia.org/wiki/Special:FilePath/Hitler_portrait_crop.jpg?width=300'/><h1>Benedykt Chmielowski</h1><h2>ur. 1700-03-20</h2><img src='http://commons.wikimedia.org/wiki/Special:FilePath/POL_COA_Na\u0142\u0119cz.svg?width=300'/><h1>Aldous Huxley</h1><h2>ur. 1894-07-26</h2><img src='http://commons.wikimedia.org/wiki/Special:FilePath/Aldous_Huxley.JPG?width=300'/><h1>Honor\u00e9 de Balzac</h1><h2>ur. 1799-05-20</h2><img src='http://commons.wikimedia.org/wiki/Special:FilePath/HBalzac.jpg?width=300'/><h1>Franz Kafka</h1><h2>ur. 1883-07-03</h2><img src='http://commons.wikimedia.org/wiki/Special:FilePath/Kafka1906.jpg?width=300'/><h1>Howard Phillips Lovecraft</h1><h2>ur. 1890-08-20</h2><img src='http://commons.wikimedia.org/wiki/Special:FilePath/Howard_Phillips_Lovecraft_in_1915.jpg?width=300'/><h1>Lew To\u0142stoj</h1><h2>ur. 1828-09-09</h2><img src='http://commons.wikimedia.org/wiki/Special:FilePath/Ilya_Efimovich_Repin_(1844-1930)_-_Portrait_of_Leo_Tolstoy_(1887).jpg?width=300'/><h1>Ilja Ilf</h1><h2>ur. 1897-10-15</h2><img src='http://commons.wikimedia.org/wiki/Special:FilePath/Ilya_Ilf.jpg?width=300'/><h1>Gabriela Zapolska</h1><h2>ur. 1857-03-30</h2><img src='http://commons.wikimedia.org/wiki/Special:FilePath/Gabriela_Zapolska.PNG?width=300'/><h1>Clive Staples Lewis</h1><h2>ur. 1898-11-29</h2><img src='http://commons.wikimedia.org/wiki/Special:FilePath/Statue_of_C.S._Lewis,_Belfast.jpg?width=300'/><h1>Iwan Turgieniew</h1><h2>ur. 1818-11-09</h2><img src='http://commons.wikimedia.org/wiki/Special:FilePath/Turgenev_by_Repin.jpg?width=300'/><h1>Lucy Maud Montgomery</h1><h2>ur. 1874-11-30</h2><img src='http://commons.wikimedia.org/wiki/Special:FilePath/Lucy_Maud_Montgomery.JPG?width=300'/><h1>Aleksander Majkowski</h1><h2>ur. 1876-07-17</h2><img src='http://commons.wikimedia.org/wiki/Special:FilePath/POL_Polonia_Restituta_Oficerski_BAR.svg?width=300'/>"
       ],
       "metadata": {},
       "output_type": "pyout",
       "prompt_number": 7,
       "text": [
        "\"<h1>Juliusz S\u0142owacki</h1><h2>ur. 1809-09-04</h2><img src=''/><h1>Henryk Sienkiewicz</h1><h2>ur. 1841-06-06</h2><img src=''/><h1>Eliza Orzeszkowa</h1><h2>ur. 1846-05-05</h2><img src=''/><h1>Adam Mickiewicz</h1><h2>ur. 1798-12-24</h2><img src=''/><h1>Jack London</h1><h2>ur. 1876-01-12</h2><img src='http://commons.wikimedia.org/wiki/Special:FilePath/JackLondon02.jpeg?width=300'/><h1>Miko\u0142aj Kopernik</h1><h2>ur. 1473-02-19</h2><img src='http://commons.wikimedia.org/wiki/Special:FilePath/Nikolaus_Kopernikus.jpg?width=300'/><h1>Maria Franciszka Koz\u0142owska</h1><h2>ur. 1862-05-27</h2><img src='http://commons.wikimedia.org/wiki/Special:FilePath/Mateczk_Koz\u0142owska.JPG?width=300'/><h1>William Szekspir</h1><h2>ur. 1564-04-23</h2><img src='http://commons.wikimedia.org/wiki/Special:FilePath/Shakespeare.jpg?width=300'/><h1>John Ronald Reuel Tolkien</h1><h2>ur. 1892-01-03</h2><img src='http://commons.wikimedia.org/wiki/Special:FilePath/Tolkien_1916.jpg?width=300'/><h1>Aleksander Dumas (ojciec)</h1><h2>ur. 1802-07-24</h2><img src='http://commons.wikimedia.org/wiki/Special:FilePath/Dumas_by_Nadar,_1855.jpg?width=300'/><h1>Tadeusz Do\u0142\u0119ga-Mostowicz</h1><h2>ur. 1898-08-10</h2><img src='http://commons.wikimedia.org/wiki/Special:FilePath/Tadeusz_Dolega-Mostowicz.jpg?width=300'/><h1>Vladimir Nabokov</h1><h2>ur. 1899-04-22</h2><img src='http://commons.wikimedia.org/wiki/Special:FilePath/Monument_Nabokov_Montreux_23.12.2006.jpg?width=300'/><h1>Adolf Hitler</h1><h2>ur. 1889-04-20</h2><img src='http://commons.wikimedia.org/wiki/Special:FilePath/Hitler_portrait_crop.jpg?width=300'/><h1>Benedykt Chmielowski</h1><h2>ur. 1700-03-20</h2><img src='http://commons.wikimedia.org/wiki/Special:FilePath/POL_COA_Na\u0142\u0119cz.svg?width=300'/><h1>Aldous Huxley</h1><h2>ur. 1894-07-26</h2><img src='http://commons.wikimedia.org/wiki/Special:FilePath/Aldous_Huxley.JPG?width=300'/><h1>Honor\u00e9 de Balzac</h1><h2>ur. 1799-05-20</h2><img src='http://commons.wikimedia.org/wiki/Special:FilePath/HBalzac.jpg?width=300'/><h1>Franz Kafka</h1><h2>ur. 1883-07-03</h2><img src='http://commons.wikimedia.org/wiki/Special:FilePath/Kafka1906.jpg?width=300'/><h1>Howard Phillips Lovecraft</h1><h2>ur. 1890-08-20</h2><img src='http://commons.wikimedia.org/wiki/Special:FilePath/Howard_Phillips_Lovecraft_in_1915.jpg?width=300'/><h1>Lew To\u0142stoj</h1><h2>ur. 1828-09-09</h2><img src='http://commons.wikimedia.org/wiki/Special:FilePath/Ilya_Efimovich_Repin_(1844-1930)_-_Portrait_of_Leo_Tolstoy_(1887).jpg?width=300'/><h1>Ilja Ilf</h1><h2>ur. 1897-10-15</h2><img src='http://commons.wikimedia.org/wiki/Special:FilePath/Ilya_Ilf.jpg?width=300'/><h1>Gabriela Zapolska</h1><h2>ur. 1857-03-30</h2><img src='http://commons.wikimedia.org/wiki/Special:FilePath/Gabriela_Zapolska.PNG?width=300'/><h1>Clive Staples Lewis</h1><h2>ur. 1898-11-29</h2><img src='http://commons.wikimedia.org/wiki/Special:FilePath/Statue_of_C.S._Lewis,_Belfast.jpg?width=300'/><h1>Iwan Turgieniew</h1><h2>ur. 1818-11-09</h2><img src='http://commons.wikimedia.org/wiki/Special:FilePath/Turgenev_by_Repin.jpg?width=300'/><h1>Lucy Maud Montgomery</h1><h2>ur. 1874-11-30</h2><img src='http://commons.wikimedia.org/wiki/Special:FilePath/Lucy_Maud_Montgomery.JPG?width=300'/><h1>Aleksander Majkowski</h1><h2>ur. 1876-07-17</h2><img src='http://commons.wikimedia.org/wiki/Special:FilePath/POL_Polonia_Restituta_Oficerski_BAR.svg?width=300'/>\""
       ]
      }
     ],
     "prompt_number": 7
    },
    {
     "cell_type": "heading",
     "level": 3,
     "metadata": {},
     "source": [
      "Zadanie 2"
     ]
    },
    {
     "cell_type": "markdown",
     "metadata": {},
     "source": [
      "Zmodyfikuj funkcj\u0119 wy\u015bwietlaj\u0105c\u0105 autor\u00f3w tak aby obejmowa\u0142a ich dat\u0119 urodzin i \u015bmierci w formacie `dzie\u0144.miesi\u0105c.rok`. Nast\u0119pnie wy\u015bwietl wszystkich autor\u00f3w,\n",
      "kt\u00f3rzy zmarli w XX wieku."
     ]
    },
    {
     "cell_type": "code",
     "collapsed": false,
     "input": [
      "def display_author(author)\n",
      "  \"<h1>#{author.name} #{author.surname}</h1><h2>ur. #{author.born.strftime(\"%d-%m-%Y\")}, zm. #{author.died.strftime(\"%d-%m-%Y\")}</h2><img src='#{author.image_url}'/>\"\n",
      "end\n",
      "\n",
      "def display_authors(authors)\n",
      "  doc = \"\"\n",
      "  authors.each do |author|\n",
      "    doc += display_author(author)\n",
      "  end\n",
      "  return doc\n",
      "end\n",
      "\n",
      "authors = Author.where(died: (Date.parse(\"1901-1-1\")..Date.parse(\"2000-12-31\")))\n",
      "\n",
      "IRuby.html display_authors(authors)"
     ],
     "language": "python",
     "metadata": {},
     "outputs": [
      {
       "html": [
        "<h1>Henryk Sienkiewicz</h1><h2>ur. 06-06-1841, zm. 18-05-1910</h2><img src=''/><h1>Eliza Orzeszkowa</h1><h2>ur. 05-05-1846, zm. 15-11-1916</h2><img src=''/><h1>Jack London</h1><h2>ur. 12-01-1876, zm. 22-11-1916</h2><img src='http://commons.wikimedia.org/wiki/Special:FilePath/JackLondon02.jpeg?width=300'/><h1>Antoni Go\u0142ubiew</h1><h2>ur. 25-02-1907, zm. 27-06-1979</h2><img src='http://commons.wikimedia.org/wiki/Special:FilePath/Antoni_Golubiew.jpg?width=300'/><h1>George Orwell</h1><h2>ur. 25-06-1903, zm. 21-01-1950</h2><img src='http://commons.wikimedia.org/wiki/Special:FilePath/GeoreOrwell.jpg?width=300'/><h1>John Ronald Reuel Tolkien</h1><h2>ur. 03-01-1892, zm. 02-09-1973</h2><img src='http://commons.wikimedia.org/wiki/Special:FilePath/Tolkien_1916.jpg?width=300'/><h1>Tadeusz Do\u0142\u0119ga-Mostowicz</h1><h2>ur. 10-08-1898, zm. 20-09-1939</h2><img src='http://commons.wikimedia.org/wiki/Special:FilePath/Tadeusz_Dolega-Mostowicz.jpg?width=300'/><h1>Vladimir Nabokov</h1><h2>ur. 22-04-1899, zm. 02-07-1977</h2><img src='http://commons.wikimedia.org/wiki/Special:FilePath/Monument_Nabokov_Montreux_23.12.2006.jpg?width=300'/><h1>Adolf Hitler</h1><h2>ur. 20-04-1889, zm. 30-04-1945</h2><img src='http://commons.wikimedia.org/wiki/Special:FilePath/Hitler_portrait_crop.jpg?width=300'/><h1>Aldous Huxley</h1><h2>ur. 26-07-1894, zm. 22-11-1963</h2><img src='http://commons.wikimedia.org/wiki/Special:FilePath/Aldous_Huxley.JPG?width=300'/><h1>Franz Kafka</h1><h2>ur. 03-07-1883, zm. 03-06-1924</h2><img src='http://commons.wikimedia.org/wiki/Special:FilePath/Kafka1906.jpg?width=300'/><h1>Howard Phillips Lovecraft</h1><h2>ur. 20-08-1890, zm. 15-03-1937</h2><img src='http://commons.wikimedia.org/wiki/Special:FilePath/Howard_Phillips_Lovecraft_in_1915.jpg?width=300'/><h1>Karol Olgierd Borchardt</h1><h2>ur. 25-03-1905, zm. 20-05-1986</h2><img src='http://commons.wikimedia.org/wiki/Special:FilePath/Karol_Olgierd_Borchardt's_house_in_Gdynia.jpg?width=300'/><h1>Lew To\u0142stoj</h1><h2>ur. 09-09-1828, zm. 20-11-1910</h2><img src='http://commons.wikimedia.org/wiki/Special:FilePath/Ilya_Efimovich_Repin_(1844-1930)_-_Portrait_of_Leo_Tolstoy_(1887).jpg?width=300'/><h1>Janusz Zajdel</h1><h2>ur. 15-08-1938, zm. 19-07-1985</h2><img src='http://commons.wikimedia.org/wiki/Special:FilePath/Janusz_A_Zajdel.jpg?width=300'/><h1>Isaac Asimov</h1><h2>ur. 04-10-1919, zm. 06-04-1992</h2><img src='http://commons.wikimedia.org/wiki/Special:FilePath/Isaac.Asimov01.jpg?width=300'/><h1>Ilja Ilf</h1><h2>ur. 15-10-1897, zm. 13-04-1937</h2><img src='http://commons.wikimedia.org/wiki/Special:FilePath/Ilya_Ilf.jpg?width=300'/><h1>Jewgienij Pietrow (pisarz)</h1><h2>ur. 13-12-1903, zm. 02-07-1942</h2><img src='http://commons.wikimedia.org/wiki/Special:FilePath/Yevgeny_Petrov.jpg?width=300'/><h1>Gabriela Zapolska</h1><h2>ur. 30-03-1857, zm. 17-12-1921</h2><img src='http://commons.wikimedia.org/wiki/Special:FilePath/Gabriela_Zapolska.PNG?width=300'/><h1>Clive Staples Lewis</h1><h2>ur. 29-11-1898, zm. 22-11-1963</h2><img src='http://commons.wikimedia.org/wiki/Special:FilePath/Statue_of_C.S._Lewis,_Belfast.jpg?width=300'/><h1>Lucy Maud Montgomery</h1><h2>ur. 30-11-1874, zm. 24-04-1942</h2><img src='http://commons.wikimedia.org/wiki/Special:FilePath/Lucy_Maud_Montgomery.JPG?width=300'/><h1>Alfred Szklarski</h1><h2>ur. 21-01-1912, zm. 09-04-1992</h2><img src='http://commons.wikimedia.org/wiki/Special:FilePath/Katowice_-_pomnik_Alfred_Szklarski.JPG?width=300'/><h1>Aleksander Majkowski</h1><h2>ur. 17-07-1876, zm. 10-02-1938</h2><img src='http://commons.wikimedia.org/wiki/Special:FilePath/POL_Polonia_Restituta_Oficerski_BAR.svg?width=300'/><h1>Ian Fleming</h1><h2>ur. 28-05-1908, zm. 12-08-1964</h2><img src='http://commons.wikimedia.org/wiki/Special:FilePath/For_Your_Eyes_Only.jpg?width=300'/>"
       ],
       "metadata": {},
       "output_type": "pyout",
       "prompt_number": 8,
       "text": [
        "\"<h1>Henryk Sienkiewicz</h1><h2>ur. 06-06-1841, zm. 18-05-1910</h2><img src=''/><h1>Eliza Orzeszkowa</h1><h2>ur. 05-05-1846, zm. 15-11-1916</h2><img src=''/><h1>Jack London</h1><h2>ur. 12-01-1876, zm. 22-11-1916</h2><img src='http://commons.wikimedia.org/wiki/Special:FilePath/JackLondon02.jpeg?width=300'/><h1>Antoni Go\u0142ubiew</h1><h2>ur. 25-02-1907, zm. 27-06-1979</h2><img src='http://commons.wikimedia.org/wiki/Special:FilePath/Antoni_Golubiew.jpg?width=300'/><h1>George Orwell</h1><h2>ur. 25-06-1903, zm. 21-01-1950</h2><img src='http://commons.wikimedia.org/wiki/Special:FilePath/GeoreOrwell.jpg?width=300'/><h1>John Ronald Reuel Tolkien</h1><h2>ur. 03-01-1892, zm. 02-09-1973</h2><img src='http://commons.wikimedia.org/wiki/Special:FilePath/Tolkien_1916.jpg?width=300'/><h1>Tadeusz Do\u0142\u0119ga-Mostowicz</h1><h2>ur. 10-08-1898, zm. 20-09-1939</h2><img src='http://commons.wikimedia.org/wiki/Special:FilePath/Tadeusz_Dolega-Mostowicz.jpg?width=300'/><h1>Vladimir Nabokov</h1><h2>ur. 22-04-1899, zm. 02-07-1977</h2><img src='http://commons.wikimedia.org/wiki/Special:FilePath/Monument_Nabokov_Montreux_23.12.2006.jpg?width=300'/><h1>Adolf Hitler</h1><h2>ur. 20-04-1889, zm. 30-04-1945</h2><img src='http://commons.wikimedia.org/wiki/Special:FilePath/Hitler_portrait_crop.jpg?width=300'/><h1>Aldous Huxley</h1><h2>ur. 26-07-1894, zm. 22-11-1963</h2><img src='http://commons.wikimedia.org/wiki/Special:FilePath/Aldous_Huxley.JPG?width=300'/><h1>Franz Kafka</h1><h2>ur. 03-07-1883, zm. 03-06-1924</h2><img src='http://commons.wikimedia.org/wiki/Special:FilePath/Kafka1906.jpg?width=300'/><h1>Howard Phillips Lovecraft</h1><h2>ur. 20-08-1890, zm. 15-03-1937</h2><img src='http://commons.wikimedia.org/wiki/Special:FilePath/Howard_Phillips_Lovecraft_in_1915.jpg?width=300'/><h1>Karol Olgierd Borchardt</h1><h2>ur. 25-03-1905, zm. 20-05-1986</h2><img src='http://commons.wikimedia.org/wiki/Special:FilePath/Karol_Olgierd_Borchardt's_house_in_Gdynia.jpg?width=300'/><h1>Lew To\u0142stoj</h1><h2>ur. 09-09-1828, zm. 20-11-1910</h2><img src='http://commons.wikimedia.org/wiki/Special:FilePath/Ilya_Efimovich_Repin_(1844-1930)_-_Portrait_of_Leo_Tolstoy_(1887).jpg?width=300'/><h1>Janusz Zajdel</h1><h2>ur. 15-08-1938, zm. 19-07-1985</h2><img src='http://commons.wikimedia.org/wiki/Special:FilePath/Janusz_A_Zajdel.jpg?width=300'/><h1>Isaac Asimov</h1><h2>ur. 04-10-1919, zm. 06-04-1992</h2><img src='http://commons.wikimedia.org/wiki/Special:FilePath/Isaac.Asimov01.jpg?width=300'/><h1>Ilja Ilf</h1><h2>ur. 15-10-1897, zm. 13-04-1937</h2><img src='http://commons.wikimedia.org/wiki/Special:FilePath/Ilya_Ilf.jpg?width=300'/><h1>Jewgienij Pietrow (pisarz)</h1><h2>ur. 13-12-1903, zm. 02-07-1942</h2><img src='http://commons.wikimedia.org/wiki/Special:FilePath/Yevgeny_Petrov.jpg?width=300'/><h1>Gabriela Zapolska</h1><h2>ur. 30-03-1857, zm. 17-12-1921</h2><img src='http://commons.wikimedia.org/wiki/Special:FilePath/Gabriela_Zapolska.PNG?width=300'/><h1>Clive Staples Lewis</h1><h2>ur. 29-11-1898, zm. 22-11-1963</h2><img src='http://commons.wikimedia.org/wiki/Special:FilePath/Statue_of_C.S._Lewis,_Belfast.jpg?width=300'/><h1>Lucy Maud Montgomery</h1><h2>ur. 30-11-1874, zm. 24-04-1942</h2><img src='http://commons.wikimedia.org/wiki/Special:FilePath/Lucy_Maud_Montgomery.JPG?width=300'/><h1>Alfred Szklarski</h1><h2>ur. 21-01-1912, zm. 09-04-1992</h2><img src='http://commons.wikimedia.org/wiki/Special:FilePath/Katowice_-_pomnik_Alfred_Szklarski.JPG?width=300'/><h1>Aleksander Majkowski</h1><h2>ur. 17-07-1876, zm. 10-02-1938</h2><img src='http://commons.wikimedia.org/wiki/Special:FilePath/POL_Polonia_Restituta_Oficerski_BAR.svg?width=300'/><h1>Ian Fleming</h1><h2>ur. 28-05-1908, zm. 12-08-1964</h2><img src='http://commons.wikimedia.org/wiki/Special:FilePath/For_Your_Eyes_Only.jpg?width=300'/>\""
       ]
      }
     ],
     "prompt_number": 8
    },
    {
     "cell_type": "heading",
     "level": 3,
     "metadata": {},
     "source": [
      "Zadanie 3"
     ]
    },
    {
     "cell_type": "markdown",
     "metadata": {},
     "source": [
      "Wy\u015bwietl 5 najm\u0142odszych autor\u00f3w, kt\u00f3rzy posiadaj\u0105 przypisane zdj\u0119cie."
     ]
    },
    {
     "cell_type": "code",
     "collapsed": false,
     "input": [
      "def display_author(author)\n",
      "  \"<h1>#{author.name} #{author.surname}</h1><h2>ur. #{author.born}</h2><img src='#{author.image_url}'/>\"\n",
      "end\n",
      "\n",
      "def display_authors(authors)\n",
      "  doc = \"\"\n",
      "  authors.each do |author|\n",
      "    doc += display_author(author)\n",
      "  end\n",
      "  return doc\n",
      "end\n",
      "\n",
      "authors = Author.limit(5).where(\"image_url is not null\").order(\"born DESC\")\n",
      "\n",
      "IRuby.html display_authors(authors)"
     ],
     "language": "python",
     "metadata": {},
     "outputs": [
      {
       "html": [
        "<h1>Andrzej Pilipiuk</h1><h2>ur. 1974-03-20</h2><img src='http://commons.wikimedia.org/wiki/Special:FilePath/Andrzej_Pilipiuk-Polcon2006.jpg?width=300'/><h1>J. K. Rowling</h1><h2>ur. 1965-07-31</h2><img src='http://commons.wikimedia.org/wiki/Special:FilePath/J._K._Rowling_2010.jpg?width=300'/><h1>Rafa\u0142 A. Ziemkiewicz</h1><h2>ur. 1964-09-13</h2><img src='http://commons.wikimedia.org/wiki/Special:FilePath/Rafa\u0142_Ziemkiewicz.jpg?width=300'/><h1>Boris Akunin</h1><h2>ur. 1956-05-20</h2><img src='http://commons.wikimedia.org/wiki/Special:FilePath/Boris_Akunin_2012.jpg?width=300'/><h1>Orson Scott Card</h1><h2>ur. 1951-08-24</h2><img src='http://commons.wikimedia.org/wiki/Special:FilePath/Orson_Scott_Card_at_BYU_Symposium_20080216_closeup.jpg?width=300'/>"
       ],
       "metadata": {},
       "output_type": "pyout",
       "prompt_number": 10,
       "text": [
        "\"<h1>Andrzej Pilipiuk</h1><h2>ur. 1974-03-20</h2><img src='http://commons.wikimedia.org/wiki/Special:FilePath/Andrzej_Pilipiuk-Polcon2006.jpg?width=300'/><h1>J. K. Rowling</h1><h2>ur. 1965-07-31</h2><img src='http://commons.wikimedia.org/wiki/Special:FilePath/J._K._Rowling_2010.jpg?width=300'/><h1>Rafa\u0142 A. Ziemkiewicz</h1><h2>ur. 1964-09-13</h2><img src='http://commons.wikimedia.org/wiki/Special:FilePath/Rafa\u0142_Ziemkiewicz.jpg?width=300'/><h1>Boris Akunin</h1><h2>ur. 1956-05-20</h2><img src='http://commons.wikimedia.org/wiki/Special:FilePath/Boris_Akunin_2012.jpg?width=300'/><h1>Orson Scott Card</h1><h2>ur. 1951-08-24</h2><img src='http://commons.wikimedia.org/wiki/Special:FilePath/Orson_Scott_Card_at_BYU_Symposium_20080216_closeup.jpg?width=300'/>\""
       ]
      }
     ],
     "prompt_number": 10
    },
    {
     "cell_type": "heading",
     "level": 3,
     "metadata": {},
     "source": [
      "Zadanie 4"
     ]
    },
    {
     "cell_type": "markdown",
     "metadata": {},
     "source": [
      "Zdefiniuj funkcj\u0119 `display_book`, kt\u00f3ra b\u0119dzie zwraca\u0142a fragment kodu HTML obejmuj\u0105cy tytu\u0142 ksi\u0105\u017cki, rok jej wydania oraz\n",
      "przypisany obrazek.\n",
      "Wy\u015bwietl najwcze\u015bniej wydan\u0105 ksi\u0105\u017ck\u0119."
     ]
    },
    {
     "cell_type": "code",
     "collapsed": false,
     "input": [
      "def display_book(book)\n",
      "  \"<h1>#{book.title}</h1><h2>#{book.published}</h2><img src='#{book.image_url}'/>\"\n",
      "end\n",
      "\n",
      "def display_books(books)\n",
      "  doc = \"\"\n",
      "  books.each do |book|\n",
      "    doc += display_book(book)\n",
      "  end\n",
      "  return doc\n",
      "end\n",
      "\n",
      "book = Book.where(\"published is not null\").order(:published).limit(1)\n",
      "\n",
      "IRuby.html display_books(book)"
     ],
     "language": "python",
     "metadata": {},
     "outputs": [
      {
       "html": [
        "<h1>Ojcowie i dzieci</h1><h2>0</h2><img src='http://commons.wikimedia.org/wiki/Special:FilePath/Otsy1880.jpg?width=300'/>"
       ],
       "metadata": {},
       "output_type": "pyout",
       "prompt_number": 11,
       "text": [
        "\"<h1>Ojcowie i dzieci</h1><h2>0</h2><img src='http://commons.wikimedia.org/wiki/Special:FilePath/Otsy1880.jpg?width=300'/>\""
       ]
      }
     ],
     "prompt_number": 11
    },
    {
     "cell_type": "heading",
     "level": 3,
     "metadata": {},
     "source": [
      "Zadanie 5"
     ]
    },
    {
     "cell_type": "markdown",
     "metadata": {},
     "source": [
      "Wy\u015bwietl wszystkie ksi\u0105\u017cki, kt\u00f3re nie maj\u0105 przypisanego roku wydania."
     ]
    },
    {
     "cell_type": "code",
     "collapsed": false,
     "input": [
      "def display_book(book)\n",
      "  \"<h1>#{book.title}</h1><h2>#{book.published}</h2><img src='#{book.image_url}'/>\"\n",
      "end\n",
      "\n",
      "def display_books(books)\n",
      "  doc = \"\"\n",
      "  books.each do |book|\n",
      "    doc += display_book(book)\n",
      "  end\n",
      "  return doc\n",
      "end\n",
      "\n",
      "book = Book.where(\"published is null\")\n",
      "\n",
      "IRuby.html display_books(book)"
     ],
     "language": "python",
     "metadata": {},
     "outputs": [
      {
       "html": [
        "<h1>V\u00e9gj\u00e1t\u00e9k (reg\u00e9ny)</h1><h2></h2><img src=''/><h1>Hamlet</h1><h2></h2><img src='http://commons.wikimedia.org/wiki/Special:FilePath/Hamlet_quarto_3rd.jpg?width=300'/>"
       ],
       "metadata": {},
       "output_type": "pyout",
       "prompt_number": 12,
       "text": [
        "\"<h1>V\u00e9gj\u00e1t\u00e9k (reg\u00e9ny)</h1><h2></h2><img src=''/><h1>Hamlet</h1><h2></h2><img src='http://commons.wikimedia.org/wiki/Special:FilePath/Hamlet_quarto_3rd.jpg?width=300'/>\""
       ]
      }
     ],
     "prompt_number": 12
    },
    {
     "cell_type": "heading",
     "level": 3,
     "metadata": {},
     "source": [
      "Zadanie 6"
     ]
    },
    {
     "cell_type": "markdown",
     "metadata": {},
     "source": [
      "Zmodyfikuj funkcj\u0119 `display_author` tak, aby wy\u015bwietla\u0142a r\u00f3wnie\u017c wszystkie ksi\u0105\u017cki napisane przez autora. U\u017cyj znacznika `<ul>`.\n",
      "Korzystaj\u0105c z tej funkcji wy\u015bwietl opis Stanis\u0142awa Lema."
     ]
    },
    {
     "cell_type": "code",
     "collapsed": false,
     "input": [
      "def display_books(author)\n",
      "  if (author.books)\n",
      "    books = \"\"\n",
      "    author.books.each do |book|\n",
      "      books += \"<li>#{book.title}</li>\"\n",
      "    end\n",
      "    return books\n",
      "  end\n",
      "end\n",
      "\n",
      "def display_author(author)\n",
      "  \"<h1>#{author.name} #{author.surname}</h1><h2>ur. #{author.born}</h2><img src='#{author.image_url}'/><ul>\" + display_books(author) + \"</ul>\"\n",
      "end\n",
      "\n",
      "def display_authors(authors)\n",
      "  doc = \"\"\n",
      "  authors.each do |author|\n",
      "    doc += display_author(author)\n",
      "  end\n",
      "  return doc\n",
      "end\n",
      "\n",
      "authors = Author.where(\"name = 'Stanis\u0142aw' AND surname = 'Lem'\")\n",
      "\n",
      "IRuby.html display_authors(authors)"
     ],
     "language": "python",
     "metadata": {},
     "outputs": [
      {
       "html": [
        "<h1>Stanis\u0142aw Lem</h1><h2>ur. 1921-09-12</h2><img src='http://commons.wikimedia.org/wiki/Special:FilePath/Stanislaw_Lem_2.jpg?width=300'/><ul><li>Bajki robot\u00f3w</li><li>Solaris (powie\u015b\u0107)</li><li>Bezsenno\u015b\u0107 (zbi\u00f3r opowiada\u0144)</li><li>G\u0142os Pana</li><li>Inwazja z Aldebarana (zbi\u00f3r opowiada\u0144)</li><li>Katar (powie\u015b\u0107)</li><li>Ksi\u0119ga robot\u00f3w</li><li>Maska (zbi\u00f3r dzie\u0142)</li><li>Niezwyci\u0119\u017cony i inne opowiadania</li><li>Noc ksi\u0119\u017cycowa</li><li>Pami\u0119tnik znaleziony w wannie</li><li>Polowanie (zbi\u00f3r opowiada\u0144)</li><li>Powt\u00f3rka (zbi\u00f3r dzie\u0142)</li><li>Po\u017cytek ze smoka</li><li>Rasa drapie\u017cc\u00f3w. Teksty ostatnie</li><li>Sezam i inne opowiadania</li><li>Summa technologiae</li><li>Wizja lokalna (powie\u015b\u0107)</li></ul>"
       ],
       "metadata": {},
       "output_type": "pyout",
       "prompt_number": 13,
       "text": [
        "\"<h1>Stanis\u0142aw Lem</h1><h2>ur. 1921-09-12</h2><img src='http://commons.wikimedia.org/wiki/Special:FilePath/Stanislaw_Lem_2.jpg?width=300'/><ul><li>Bajki robot\u00f3w</li><li>Solaris (powie\u015b\u0107)</li><li>Bezsenno\u015b\u0107 (zbi\u00f3r opowiada\u0144)</li><li>G\u0142os Pana</li><li>Inwazja z Aldebarana (zbi\u00f3r opowiada\u0144)</li><li>Katar (powie\u015b\u0107)</li><li>Ksi\u0119ga robot\u00f3w</li><li>Maska (zbi\u00f3r dzie\u0142)</li><li>Niezwyci\u0119\u017cony i inne opowiadania</li><li>Noc ksi\u0119\u017cycowa</li><li>Pami\u0119tnik znaleziony w wannie</li><li>Polowanie (zbi\u00f3r opowiada\u0144)</li><li>Powt\u00f3rka (zbi\u00f3r dzie\u0142)</li><li>Po\u017cytek ze smoka</li><li>Rasa drapie\u017cc\u00f3w. Teksty ostatnie</li><li>Sezam i inne opowiadania</li><li>Summa technologiae</li><li>Wizja lokalna (powie\u015b\u0107)</li></ul>\""
       ]
      }
     ],
     "prompt_number": 13
    },
    {
     "cell_type": "heading",
     "level": 3,
     "metadata": {},
     "source": [
      "Zadanie 7"
     ]
    },
    {
     "cell_type": "markdown",
     "metadata": {},
     "source": [
      "W\u015br\u00f3d ksi\u0105\u017cek napisanych przez Lema wy\u015bwietl wszystkie, kt\u00f3re zawieraja w tytule s\u0142owo \"zbi\u00f3r\"."
     ]
    },
    {
     "cell_type": "code",
     "collapsed": false,
     "input": [
      "def display_books(author)\n",
      "  if (author.books)\n",
      "    books = \"\"\n",
      "    author.books.where(\"title LIKE '%zbi\u00f3r%'\").each do |book|\n",
      "      books += \"<li>#{book.title}</li>\"\n",
      "    end\n",
      "    return books\n",
      "  end\n",
      "end\n",
      "\n",
      "def display_author(author)\n",
      "  \"<h1>#{author.name} #{author.surname}</h1><h2>ur. #{author.born}</h2><img src='#{author.image_url}'/><ul>\" + display_books(author) + \"</ul>\"\n",
      "end\n",
      "\n",
      "def display_authors(authors)\n",
      "  doc = \"\"\n",
      "  authors.each do |author|\n",
      "    doc += display_author(author)\n",
      "  end\n",
      "  return doc\n",
      "end\n",
      "\n",
      "authors = Author.where(\"name = 'Stanis\u0142aw' AND surname = 'Lem'\")\n",
      "\n",
      "IRuby.html display_authors(authors)"
     ],
     "language": "python",
     "metadata": {},
     "outputs": [
      {
       "html": [
        "<h1>Stanis\u0142aw Lem</h1><h2>ur. 1921-09-12</h2><img src='http://commons.wikimedia.org/wiki/Special:FilePath/Stanislaw_Lem_2.jpg?width=300'/><ul><li>Bezsenno\u015b\u0107 (zbi\u00f3r opowiada\u0144)</li><li>Inwazja z Aldebarana (zbi\u00f3r opowiada\u0144)</li><li>Maska (zbi\u00f3r dzie\u0142)</li><li>Polowanie (zbi\u00f3r opowiada\u0144)</li><li>Powt\u00f3rka (zbi\u00f3r dzie\u0142)</li></ul>"
       ],
       "metadata": {},
       "output_type": "pyout",
       "prompt_number": 14,
       "text": [
        "\"<h1>Stanis\u0142aw Lem</h1><h2>ur. 1921-09-12</h2><img src='http://commons.wikimedia.org/wiki/Special:FilePath/Stanislaw_Lem_2.jpg?width=300'/><ul><li>Bezsenno\u015b\u0107 (zbi\u00f3r opowiada\u0144)</li><li>Inwazja z Aldebarana (zbi\u00f3r opowiada\u0144)</li><li>Maska (zbi\u00f3r dzie\u0142)</li><li>Polowanie (zbi\u00f3r opowiada\u0144)</li><li>Powt\u00f3rka (zbi\u00f3r dzie\u0142)</li></ul>\""
       ]
      }
     ],
     "prompt_number": 14
    },
    {
     "cell_type": "heading",
     "level": 3,
     "metadata": {},
     "source": [
      "Zadanie 8"
     ]
    },
    {
     "cell_type": "markdown",
     "metadata": {},
     "source": [
      "W\u015br\u00f3d ksi\u0105\u017cek napisanych przez Lema wy\u015bwietl te, kt\u00f3re zosta\u0142y wydane w roku jego \u015bmierci."
     ]
    },
    {
     "cell_type": "code",
     "collapsed": false,
     "input": [],
     "language": "python",
     "metadata": {},
     "outputs": [],
     "prompt_number": 5
    },
    {
     "cell_type": "heading",
     "level": 3,
     "metadata": {},
     "source": [
      "Zadanie 9"
     ]
    },
    {
     "cell_type": "markdown",
     "metadata": {},
     "source": [
      "Wy\u015bwietl wszystkie ksi\u0105\u017cki znajduj\u0105ce si\u0119 w bazie. Opis powinien zawiera\u0107 tytu\u0142, imi\u0119 i nazwisko autora, rok wydania oraz \n",
      "obraz przedstawiaj\u0105cy ksi\u0105\u017ck\u0119 (o ile istnieje)."
     ]
    },
    {
     "cell_type": "code",
     "collapsed": false,
     "input": [],
     "language": "python",
     "metadata": {},
     "outputs": []
    },
    {
     "cell_type": "heading",
     "level": 3,
     "metadata": {},
     "source": [
      "Zadanie 10"
     ]
    },
    {
     "cell_type": "markdown",
     "metadata": {},
     "source": [
      "Wy\u015bwietl wszystkich autor\u00f3w znajduj\u0105cych si\u0119 w bazie wraz z opisem zawieraj\u0105cym ich zdj\u0119cie, dat\u0119 urodzin i \u015bmierci oraz spis \n",
      "opublikowanych ksi\u0105\u017cek. Pami\u0119taj o odpowiednim sformatowaniu dat oraz o tym, \u017ce nie wszyscy autorzy maj\u0105 przypisane wszystkie\n",
      "informacje."
     ]
    },
    {
     "cell_type": "code",
     "collapsed": false,
     "input": [],
     "language": "python",
     "metadata": {},
     "outputs": [],
     "prompt_number": 1
    }
   ],
   "metadata": {}
  }
 ]
}